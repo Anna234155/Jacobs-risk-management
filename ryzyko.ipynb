{
 "cells": [
  {
   "cell_type": "code",
   "execution_count": 66,
   "id": "568f7d68",
   "metadata": {},
   "outputs": [],
   "source": [
    "import pandas as pd\n",
    "import numpy as np\n",
    "import matplotlib.pyplot as plt\n",
    "import matplotlib\n",
    "import seaborn as sns\n",
    "import os\n",
    "\n",
    "from sklearn.linear_model import LinearRegression\n",
    "\n",
    "import scipy.stats as st\n",
    "import statsmodels as sm\n",
    "import scipy.optimize as opt\n",
    "import scipy\n",
    "\n",
    "from pandas.plotting import register_matplotlib_converters\n",
    "register_matplotlib_converters()"
   ]
  },
  {
   "cell_type": "code",
   "execution_count": 67,
   "id": "965160fa",
   "metadata": {},
   "outputs": [
    {
     "data": {
      "text/html": [
       "<div>\n",
       "<style scoped>\n",
       "    .dataframe tbody tr th:only-of-type {\n",
       "        vertical-align: middle;\n",
       "    }\n",
       "\n",
       "    .dataframe tbody tr th {\n",
       "        vertical-align: top;\n",
       "    }\n",
       "\n",
       "    .dataframe thead th {\n",
       "        text-align: right;\n",
       "    }\n",
       "</style>\n",
       "<table border=\"1\" class=\"dataframe\">\n",
       "  <thead>\n",
       "    <tr style=\"text-align: right;\">\n",
       "      <th></th>\n",
       "      <th>date</th>\n",
       "      <th>kawa</th>\n",
       "    </tr>\n",
       "  </thead>\n",
       "  <tbody>\n",
       "    <tr>\n",
       "      <th>0</th>\n",
       "      <td>2018-05-07</td>\n",
       "      <td>113.33</td>\n",
       "    </tr>\n",
       "    <tr>\n",
       "      <th>1</th>\n",
       "      <td>2018-05-08</td>\n",
       "      <td>112.25</td>\n",
       "    </tr>\n",
       "    <tr>\n",
       "      <th>2</th>\n",
       "      <td>2018-05-09</td>\n",
       "      <td>111.45</td>\n",
       "    </tr>\n",
       "    <tr>\n",
       "      <th>3</th>\n",
       "      <td>2018-05-10</td>\n",
       "      <td>112.20</td>\n",
       "    </tr>\n",
       "    <tr>\n",
       "      <th>4</th>\n",
       "      <td>2018-05-11</td>\n",
       "      <td>112.06</td>\n",
       "    </tr>\n",
       "    <tr>\n",
       "      <th>...</th>\n",
       "      <td>...</td>\n",
       "      <td>...</td>\n",
       "    </tr>\n",
       "    <tr>\n",
       "      <th>1255</th>\n",
       "      <td>2023-05-01</td>\n",
       "      <td>174.19</td>\n",
       "    </tr>\n",
       "    <tr>\n",
       "      <th>1256</th>\n",
       "      <td>2023-05-02</td>\n",
       "      <td>175.27</td>\n",
       "    </tr>\n",
       "    <tr>\n",
       "      <th>1257</th>\n",
       "      <td>2023-05-03</td>\n",
       "      <td>174.10</td>\n",
       "    </tr>\n",
       "    <tr>\n",
       "      <th>1258</th>\n",
       "      <td>2023-05-04</td>\n",
       "      <td>171.70</td>\n",
       "    </tr>\n",
       "    <tr>\n",
       "      <th>1259</th>\n",
       "      <td>2023-05-05</td>\n",
       "      <td>176.49</td>\n",
       "    </tr>\n",
       "  </tbody>\n",
       "</table>\n",
       "<p>1260 rows × 2 columns</p>\n",
       "</div>"
      ],
      "text/plain": [
       "           date    kawa\n",
       "0    2018-05-07  113.33\n",
       "1    2018-05-08  112.25\n",
       "2    2018-05-09  111.45\n",
       "3    2018-05-10  112.20\n",
       "4    2018-05-11  112.06\n",
       "...         ...     ...\n",
       "1255 2023-05-01  174.19\n",
       "1256 2023-05-02  175.27\n",
       "1257 2023-05-03  174.10\n",
       "1258 2023-05-04  171.70\n",
       "1259 2023-05-05  176.49\n",
       "\n",
       "[1260 rows x 2 columns]"
      ]
     },
     "execution_count": 67,
     "metadata": {},
     "output_type": "execute_result"
    },
    {
     "data": {
      "image/png": "[encoded data removed]",
      "text/plain": [
       "<Figure size 432x288 with 1 Axes>"
      ]
     },
     "metadata": {
      "needs_background": "light"
     },
     "output_type": "display_data"
    }
   ],
   "source": [
    "kawa = pd.read_csv('kawanowa.csv')\n",
    "kawa\n",
    "kawa.rename(columns={'value': 'kawa', 'date': 'date'}, inplace=True)\n",
    "kawa = kawa[['date', 'kawa']]\n",
    "kawa.dropna(inplace=True)\n",
    "kawa = kawa[kawa['kawa'] > 0]\n",
    "kawa['date'] = pd.to_datetime(kawa['date'], format='%d.%m.%Y')\n",
    "kawa.sort_values(by='date', inplace=True)\n",
    "kawa = kawa[kawa['kawa'] > 0]\n",
    "kawa.reset_index(inplace=True, drop=True)\n",
    "kawa\n",
    "kawa['kawa'].plot()\n",
    "kawa"
   ]
  },
  {
   "cell_type": "code",
   "execution_count": 68,
   "id": "78ef1a22",
   "metadata": {},
   "outputs": [
    {
     "data": {
      "text/html": [
       "<div>\n",
       "<style scoped>\n",
       "    .dataframe tbody tr th:only-of-type {\n",
       "        vertical-align: middle;\n",
       "    }\n",
       "\n",
       "    .dataframe tbody tr th {\n",
       "        vertical-align: top;\n",
       "    }\n",
       "\n",
       "    .dataframe thead th {\n",
       "        text-align: right;\n",
       "    }\n",
       "</style>\n",
       "<table border=\"1\" class=\"dataframe\">\n",
       "  <thead>\n",
       "    <tr style=\"text-align: right;\">\n",
       "      <th></th>\n",
       "      <th>olej</th>\n",
       "      <th>date</th>\n",
       "    </tr>\n",
       "  </thead>\n",
       "  <tbody>\n",
       "    <tr>\n",
       "      <th>0</th>\n",
       "      <td>2646</td>\n",
       "      <td>2017-07-25</td>\n",
       "    </tr>\n",
       "    <tr>\n",
       "      <th>1</th>\n",
       "      <td>2652</td>\n",
       "      <td>2017-07-26</td>\n",
       "    </tr>\n",
       "    <tr>\n",
       "      <th>2</th>\n",
       "      <td>2692</td>\n",
       "      <td>2017-07-27</td>\n",
       "    </tr>\n",
       "    <tr>\n",
       "      <th>3</th>\n",
       "      <td>2666</td>\n",
       "      <td>2017-07-28</td>\n",
       "    </tr>\n",
       "    <tr>\n",
       "      <th>4</th>\n",
       "      <td>2672</td>\n",
       "      <td>2017-07-31</td>\n",
       "    </tr>\n",
       "    <tr>\n",
       "      <th>...</th>\n",
       "      <td>...</td>\n",
       "      <td>...</td>\n",
       "    </tr>\n",
       "    <tr>\n",
       "      <th>1285</th>\n",
       "      <td>4327</td>\n",
       "      <td>2023-04-10</td>\n",
       "    </tr>\n",
       "    <tr>\n",
       "      <th>1286</th>\n",
       "      <td>4280</td>\n",
       "      <td>2023-04-11</td>\n",
       "    </tr>\n",
       "    <tr>\n",
       "      <th>1287</th>\n",
       "      <td>4170</td>\n",
       "      <td>2023-04-12</td>\n",
       "    </tr>\n",
       "    <tr>\n",
       "      <th>1288</th>\n",
       "      <td>4100</td>\n",
       "      <td>2023-04-13</td>\n",
       "    </tr>\n",
       "    <tr>\n",
       "      <th>1289</th>\n",
       "      <td>4100</td>\n",
       "      <td>2023-04-14</td>\n",
       "    </tr>\n",
       "  </tbody>\n",
       "</table>\n",
       "<p>1290 rows × 2 columns</p>\n",
       "</div>"
      ],
      "text/plain": [
       "      olej       date\n",
       "0     2646 2017-07-25\n",
       "1     2652 2017-07-26\n",
       "2     2692 2017-07-27\n",
       "3     2666 2017-07-28\n",
       "4     2672 2017-07-31\n",
       "...    ...        ...\n",
       "1285  4327 2023-04-10\n",
       "1286  4280 2023-04-11\n",
       "1287  4170 2023-04-12\n",
       "1288  4100 2023-04-13\n",
       "1289  4100 2023-04-14\n",
       "\n",
       "[1290 rows x 2 columns]"
      ]
     },
     "execution_count": 68,
     "metadata": {},
     "output_type": "execute_result"
    }
   ],
   "source": [
    "olej = pd.read_csv('daneolej.csv')\n",
    "olej\n",
    "olej.rename(columns={'Close': 'olej', 'Date': 'date'}, inplace=True)\n",
    "olej = olej[['olej', 'date']]\n",
    "olej['date'] = pd.to_datetime(olej['date'])\n",
    "olej.sort_values(by='date', inplace=True)\n",
    "olej = olej[olej['olej'] > 0]\n",
    "olej.reset_index(inplace=True, drop=True)\n",
    "olej"
   ]
  },
  {
   "cell_type": "code",
   "execution_count": 69,
   "id": "08c2097a",
   "metadata": {},
   "outputs": [
    {
     "data": {
      "text/html": [
       "<div>\n",
       "<style scoped>\n",
       "    .dataframe tbody tr th:only-of-type {\n",
       "        vertical-align: middle;\n",
       "    }\n",
       "\n",
       "    .dataframe tbody tr th {\n",
       "        vertical-align: top;\n",
       "    }\n",
       "\n",
       "    .dataframe thead th {\n",
       "        text-align: right;\n",
       "    }\n",
       "</style>\n",
       "<table border=\"1\" class=\"dataframe\">\n",
       "  <thead>\n",
       "    <tr style=\"text-align: right;\">\n",
       "      <th></th>\n",
       "      <th>date</th>\n",
       "      <th>gsci</th>\n",
       "    </tr>\n",
       "  </thead>\n",
       "  <tbody>\n",
       "    <tr>\n",
       "      <th>0</th>\n",
       "      <td>2018-05-07</td>\n",
       "      <td>653.83</td>\n",
       "    </tr>\n",
       "    <tr>\n",
       "      <th>1</th>\n",
       "      <td>2018-05-08</td>\n",
       "      <td>650.78</td>\n",
       "    </tr>\n",
       "    <tr>\n",
       "      <th>2</th>\n",
       "      <td>2018-05-09</td>\n",
       "      <td>655.94</td>\n",
       "    </tr>\n",
       "    <tr>\n",
       "      <th>3</th>\n",
       "      <td>2018-05-10</td>\n",
       "      <td>659.25</td>\n",
       "    </tr>\n",
       "    <tr>\n",
       "      <th>4</th>\n",
       "      <td>2018-05-11</td>\n",
       "      <td>655.84</td>\n",
       "    </tr>\n",
       "    <tr>\n",
       "      <th>...</th>\n",
       "      <td>...</td>\n",
       "      <td>...</td>\n",
       "    </tr>\n",
       "    <tr>\n",
       "      <th>1253</th>\n",
       "      <td>2023-04-27</td>\n",
       "      <td>978.14</td>\n",
       "    </tr>\n",
       "    <tr>\n",
       "      <th>1254</th>\n",
       "      <td>2023-04-28</td>\n",
       "      <td>989.24</td>\n",
       "    </tr>\n",
       "    <tr>\n",
       "      <th>1255</th>\n",
       "      <td>2023-05-01</td>\n",
       "      <td>982.50</td>\n",
       "    </tr>\n",
       "    <tr>\n",
       "      <th>1256</th>\n",
       "      <td>2023-05-02</td>\n",
       "      <td>965.50</td>\n",
       "    </tr>\n",
       "    <tr>\n",
       "      <th>1257</th>\n",
       "      <td>2023-05-03</td>\n",
       "      <td>956.19</td>\n",
       "    </tr>\n",
       "  </tbody>\n",
       "</table>\n",
       "<p>1258 rows × 2 columns</p>\n",
       "</div>"
      ],
      "text/plain": [
       "           date    gsci\n",
       "0    2018-05-07  653.83\n",
       "1    2018-05-08  650.78\n",
       "2    2018-05-09  655.94\n",
       "3    2018-05-10  659.25\n",
       "4    2018-05-11  655.84\n",
       "...         ...     ...\n",
       "1253 2023-04-27  978.14\n",
       "1254 2023-04-28  989.24\n",
       "1255 2023-05-01  982.50\n",
       "1256 2023-05-02  965.50\n",
       "1257 2023-05-03  956.19\n",
       "\n",
       "[1258 rows x 2 columns]"
      ]
     },
     "execution_count": 69,
     "metadata": {},
     "output_type": "execute_result"
    },
    {
     "data": {
      "image/png": "[encoded data removed]",
      "text/plain": [
       "<Figure size 432x288 with 1 Axes>"
      ]
     },
     "metadata": {
      "needs_background": "light"
     },
     "output_type": "display_data"
    }
   ],
   "source": [
    "gsci = pd.read_csv('down.csv')\n",
    "gsci\n",
    "gsci.rename(columns={'value': 'gsci', 'date': 'date'}, inplace=True)\n",
    "gsci = gsci[['date', 'gsci']]\n",
    "gsci.dropna(inplace=True)\n",
    "gsci = gsci[gsci['gsci'] > 0]\n",
    "gsci['date'] = pd.to_datetime(gsci['date'], format='%d.%m.%Y')\n",
    "gsci.sort_values(by='date', inplace=True)\n",
    "gsci = gsci[gsci['gsci'] > 0]\n",
    "gsci.reset_index(inplace=True, drop=True)\n",
    "gsci\n",
    "gsci['gsci'].plot()\n",
    "gsci"
   ]
  },
  {
   "cell_type": "code",
   "execution_count": 70,
   "id": "427bdbf8",
   "metadata": {},
   "outputs": [
    {
     "data": {
      "text/html": [
       "<div>\n",
       "<style scoped>\n",
       "    .dataframe tbody tr th:only-of-type {\n",
       "        vertical-align: middle;\n",
       "    }\n",
       "\n",
       "    .dataframe tbody tr th {\n",
       "        vertical-align: top;\n",
       "    }\n",
       "\n",
       "    .dataframe thead th {\n",
       "        text-align: right;\n",
       "    }\n",
       "</style>\n",
       "<table border=\"1\" class=\"dataframe\">\n",
       "  <thead>\n",
       "    <tr style=\"text-align: right;\">\n",
       "      <th></th>\n",
       "      <th>date</th>\n",
       "      <th>kawa</th>\n",
       "      <th>olej</th>\n",
       "      <th>gsci</th>\n",
       "    </tr>\n",
       "  </thead>\n",
       "  <tbody>\n",
       "    <tr>\n",
       "      <th>0</th>\n",
       "      <td>2018-05-07</td>\n",
       "      <td>113.33</td>\n",
       "      <td>2365</td>\n",
       "      <td>653.83</td>\n",
       "    </tr>\n",
       "    <tr>\n",
       "      <th>1</th>\n",
       "      <td>2018-05-08</td>\n",
       "      <td>112.25</td>\n",
       "      <td>2359</td>\n",
       "      <td>650.78</td>\n",
       "    </tr>\n",
       "    <tr>\n",
       "      <th>2</th>\n",
       "      <td>2018-05-15</td>\n",
       "      <td>109.76</td>\n",
       "      <td>2374</td>\n",
       "      <td>656.82</td>\n",
       "    </tr>\n",
       "    <tr>\n",
       "      <th>3</th>\n",
       "      <td>2018-05-16</td>\n",
       "      <td>110.09</td>\n",
       "      <td>2404</td>\n",
       "      <td>656.77</td>\n",
       "    </tr>\n",
       "    <tr>\n",
       "      <th>4</th>\n",
       "      <td>2018-05-17</td>\n",
       "      <td>110.65</td>\n",
       "      <td>2420</td>\n",
       "      <td>658.03</td>\n",
       "    </tr>\n",
       "    <tr>\n",
       "      <th>...</th>\n",
       "      <td>...</td>\n",
       "      <td>...</td>\n",
       "      <td>...</td>\n",
       "      <td>...</td>\n",
       "    </tr>\n",
       "    <tr>\n",
       "      <th>1076</th>\n",
       "      <td>2023-04-10</td>\n",
       "      <td>171.02</td>\n",
       "      <td>4327</td>\n",
       "      <td>1010.22</td>\n",
       "    </tr>\n",
       "    <tr>\n",
       "      <th>1077</th>\n",
       "      <td>2023-04-11</td>\n",
       "      <td>178.02</td>\n",
       "      <td>4280</td>\n",
       "      <td>1019.56</td>\n",
       "    </tr>\n",
       "    <tr>\n",
       "      <th>1078</th>\n",
       "      <td>2023-04-12</td>\n",
       "      <td>177.57</td>\n",
       "      <td>4170</td>\n",
       "      <td>1024.83</td>\n",
       "    </tr>\n",
       "    <tr>\n",
       "      <th>1079</th>\n",
       "      <td>2023-04-13</td>\n",
       "      <td>182.77</td>\n",
       "      <td>4100</td>\n",
       "      <td>1024.38</td>\n",
       "    </tr>\n",
       "    <tr>\n",
       "      <th>1080</th>\n",
       "      <td>2023-04-14</td>\n",
       "      <td>179.73</td>\n",
       "      <td>4100</td>\n",
       "      <td>1026.28</td>\n",
       "    </tr>\n",
       "  </tbody>\n",
       "</table>\n",
       "<p>1081 rows × 4 columns</p>\n",
       "</div>"
      ],
      "text/plain": [
       "           date    kawa  olej     gsci\n",
       "0    2018-05-07  113.33  2365   653.83\n",
       "1    2018-05-08  112.25  2359   650.78\n",
       "2    2018-05-15  109.76  2374   656.82\n",
       "3    2018-05-16  110.09  2404   656.77\n",
       "4    2018-05-17  110.65  2420   658.03\n",
       "...         ...     ...   ...      ...\n",
       "1076 2023-04-10  171.02  4327  1010.22\n",
       "1077 2023-04-11  178.02  4280  1019.56\n",
       "1078 2023-04-12  177.57  4170  1024.83\n",
       "1079 2023-04-13  182.77  4100  1024.38\n",
       "1080 2023-04-14  179.73  4100  1026.28\n",
       "\n",
       "[1081 rows x 4 columns]"
      ]
     },
     "execution_count": 70,
     "metadata": {},
     "output_type": "execute_result"
    }
   ],
   "source": [
    "results = kawa.merge(olej, on='date')\n",
    "results = results.merge(gsci, on='date')\n",
    "results"
   ]
  },
  {
   "cell_type": "code",
   "execution_count": 71,
   "id": "49ea8fd2",
   "metadata": {},
   "outputs": [],
   "source": [
    "\n",
    "y_gaz = results['kawa']\n",
    "y_ropa = results['olej']\n",
    "y_usdpln = results['gsci']"
   ]
  },
  {
   "cell_type": "code",
   "execution_count": 72,
   "id": "a42ce72f",
   "metadata": {},
   "outputs": [],
   "source": [
    "df_final = pd.DataFrame()\n",
    "df_final['Data'] = results['date']\n",
    "df_final['przyrosty_log_gaz'] = np.log(y_gaz).diff()\n",
    "df_final['przyrosty_log_ropa'] = np.log(y_ropa).diff()\n",
    "df_final['przyrosty_log_usdpln'] = np.log(y_usdpln).diff()\n",
    "df_final = df_final.dropna()"
   ]
  },
  {
   "cell_type": "code",
   "execution_count": 73,
   "id": "ddf2a761",
   "metadata": {},
   "outputs": [
    {
     "data": {
      "text/html": [
       "<div>\n",
       "<style scoped>\n",
       "    .dataframe tbody tr th:only-of-type {\n",
       "        vertical-align: middle;\n",
       "    }\n",
       "\n",
       "    .dataframe tbody tr th {\n",
       "        vertical-align: top;\n",
       "    }\n",
       "\n",
       "    .dataframe thead th {\n",
       "        text-align: right;\n",
       "    }\n",
       "</style>\n",
       "<table border=\"1\" class=\"dataframe\">\n",
       "  <thead>\n",
       "    <tr style=\"text-align: right;\">\n",
       "      <th></th>\n",
       "      <th>Data</th>\n",
       "      <th>przyrosty_log_gaz</th>\n",
       "      <th>przyrosty_log_ropa</th>\n",
       "      <th>przyrosty_log_usdpln</th>\n",
       "    </tr>\n",
       "  </thead>\n",
       "  <tbody>\n",
       "    <tr>\n",
       "      <th>0</th>\n",
       "      <td>2018-05-08</td>\n",
       "      <td>-0.009575</td>\n",
       "      <td>-0.002540</td>\n",
       "      <td>-0.004676</td>\n",
       "    </tr>\n",
       "    <tr>\n",
       "      <th>1</th>\n",
       "      <td>2018-05-15</td>\n",
       "      <td>-0.022432</td>\n",
       "      <td>0.006338</td>\n",
       "      <td>0.009238</td>\n",
       "    </tr>\n",
       "    <tr>\n",
       "      <th>2</th>\n",
       "      <td>2018-05-16</td>\n",
       "      <td>0.003002</td>\n",
       "      <td>0.012558</td>\n",
       "      <td>-0.000076</td>\n",
       "    </tr>\n",
       "    <tr>\n",
       "      <th>3</th>\n",
       "      <td>2018-05-17</td>\n",
       "      <td>0.005074</td>\n",
       "      <td>0.006634</td>\n",
       "      <td>0.001917</td>\n",
       "    </tr>\n",
       "    <tr>\n",
       "      <th>4</th>\n",
       "      <td>2018-05-18</td>\n",
       "      <td>0.000903</td>\n",
       "      <td>0.005358</td>\n",
       "      <td>0.000425</td>\n",
       "    </tr>\n",
       "  </tbody>\n",
       "</table>\n",
       "</div>"
      ],
      "text/plain": [
       "        Data  przyrosty_log_gaz  przyrosty_log_ropa  przyrosty_log_usdpln\n",
       "0 2018-05-08          -0.009575           -0.002540             -0.004676\n",
       "1 2018-05-15          -0.022432            0.006338              0.009238\n",
       "2 2018-05-16           0.003002            0.012558             -0.000076\n",
       "3 2018-05-17           0.005074            0.006634              0.001917\n",
       "4 2018-05-18           0.000903            0.005358              0.000425"
      ]
     },
     "execution_count": 73,
     "metadata": {},
     "output_type": "execute_result"
    }
   ],
   "source": [
    "df_final = df_final.reset_index(drop=True)\n",
    "df_final.head()"
   ]
  },
  {
   "cell_type": "code",
   "execution_count": 74,
   "id": "0ce648a0",
   "metadata": {},
   "outputs": [
    {
     "data": {
      "image/png": "[encoded data removed]",
      "text/plain": [
       "<Figure size 432x288 with 1 Axes>"
      ]
     },
     "metadata": {
      "needs_background": "light"
     },
     "output_type": "display_data"
    }
   ],
   "source": [
    "data_preproc = pd.DataFrame({\n",
    "    'Data': df_final['Data'], \n",
    "    'ziarna kawy': df_final['przyrosty_log_gaz'],\n",
    "    'olej palmowy': df_final['przyrosty_log_ropa'],\n",
    "    'Dow Index': df_final['przyrosty_log_usdpln']})\n",
    "\n",
    "sns.lineplot(x='Data', y='value', hue='variable', \n",
    "             data=pd.melt(data_preproc, ['Data']))\n",
    "plt.title('Wizualizacja danych')\n",
    "plt.xlabel('Czas')\n",
    "plt.grid()\n",
    "plt.show()"
   ]
  },
  {
   "cell_type": "code",
   "execution_count": 75,
   "id": "2e64e6d0",
   "metadata": {},
   "outputs": [
    {
     "data": {
      "text/plain": [
       "<AxesSubplot:>"
      ]
     },
     "execution_count": 75,
     "metadata": {},
     "output_type": "execute_result"
    },
    {
     "data": {
      "image/png": "[encoded data removed]",
      "text/plain": [
       "<Figure size 504x288 with 2 Axes>"
      ]
     },
     "metadata": {
      "needs_background": "light"
     },
     "output_type": "display_data"
    }
   ],
   "source": [
    "corr = df_final.corr()\n",
    "\n",
    "f, ax = plt.subplots(figsize=(7, 4))\n",
    "cmap = sns.diverging_palette(230, 20, as_cmap=True)\n",
    "sns.heatmap(corr, \n",
    "            cmap=cmap,\n",
    "            annot=True,\n",
    "            center=0,\n",
    "            vmax=1,\n",
    "            square=True,\n",
    "            linewidths=.5,\n",
    "            cbar_kws={\"shrink\": .5})"
   ]
  },
  {
   "cell_type": "code",
   "execution_count": 76,
   "id": "a16ef024",
   "metadata": {},
   "outputs": [
    {
     "data": {
      "text/plain": [
       "<AxesSubplot:>"
      ]
     },
     "execution_count": 76,
     "metadata": {},
     "output_type": "execute_result"
    },
    {
     "data": {
      "image/png": "[encoded data removed]",
      "text/plain": [
       "<Figure size 504x288 with 2 Axes>"
      ]
     },
     "metadata": {
      "needs_background": "light"
     },
     "output_type": "display_data"
    }
   ],
   "source": [
    "df_same = pd.DataFrame()\n",
    "df_same['log_kawa'] = df_final['przyrosty_log_gaz']\n",
    "df_same['log_olej'] = df_final['przyrosty_log_ropa']\n",
    "df_same['log_dow'] = df_final['przyrosty_log_usdpln']\n",
    "\n",
    "corr2 = df_same.corr()\n",
    "\n",
    "f, ax = plt.subplots(figsize=(7, 4))\n",
    "\n",
    "\n",
    "cmap = sns.diverging_palette(250, 10, n=15,s=50,l=20)\n",
    "sns.heatmap(corr2, \n",
    "            cmap=cmap,\n",
    "            annot=True,\n",
    "            center=0,\n",
    "            vmax=1,\n",
    "            square=True,\n",
    "            linewidths=.5,\n",
    "            cbar_kws={\"shrink\": .5})"
   ]
  },
  {
   "cell_type": "code",
   "execution_count": 77,
   "id": "9662f2e1",
   "metadata": {},
   "outputs": [],
   "source": [
    "k = 1\n",
    "\n",
    "df_moved = pd.DataFrame()\n",
    "df_moved['przyrosty_log_gaz'] = df_final['przyrosty_log_gaz'][k:]\n",
    "df_moved['przyrosty_log_ropa'] = df_final['przyrosty_log_ropa'][k:]\n",
    "df_moved['przyrosty_log_usdpln'] = df_final['przyrosty_log_usdpln'][:-k]"
   ]
  },
  {
   "cell_type": "code",
   "execution_count": 78,
   "id": "60b10960",
   "metadata": {},
   "outputs": [
    {
     "data": {
      "text/plain": [
       "<AxesSubplot:>"
      ]
     },
     "execution_count": 78,
     "metadata": {},
     "output_type": "execute_result"
    },
    {
     "data": {
      "image/png": "[encoded data removed]",
      "text/plain": [
       "<Figure size 504x288 with 2 Axes>"
      ]
     },
     "metadata": {
      "needs_background": "light"
     },
     "output_type": "display_data"
    }
   ],
   "source": [
    "corr2 = df_moved.corr()\n",
    "\n",
    "f, ax = plt.subplots(figsize=(7, 4))\n",
    "cmap = sns.diverging_palette(230, 20, as_cmap=True)\n",
    "sns.heatmap(corr2, \n",
    "            cmap=cmap,\n",
    "            annot=True,\n",
    "            center=0,\n",
    "            vmax=1,\n",
    "            square=True,\n",
    "            linewidths=.5,\n",
    "            cbar_kws={\"shrink\": .5})"
   ]
  },
  {
   "cell_type": "code",
   "execution_count": 79,
   "id": "780a2b56",
   "metadata": {},
   "outputs": [],
   "source": [
    "def jednowskaznikowy(R, Rs):\n",
    "    lr = LinearRegression()\n",
    "\n",
    "    lr.fit(np.expand_dims(Rs, axis=1), np.expand_dims(R, axis=1))\n",
    "\n",
    "    beta, alpha= lr.coef_[0, 0], lr.intercept_[0]\n",
    "    determinacja = beta **2 * np.var(Rs) / np.var(R)\n",
    "    war_res = np.sum((R - alpha - beta * Rs) ** 2) / ( len(R) -1)\n",
    "    \n",
    "    nazwy = ['alpha kawa', 'beta kawa', 'Współczynnik determinacji', 'Wariancja residuów']\n",
    "    wartości = [alpha, beta, determinacja, war_res]\n",
    "    \n",
    "    plt.scatter(Rs, R, color=\"#13C6EB\")\n",
    "    plt.plot([min(Rs), max(Rs)], [beta * min(Rs) + alpha, beta * max(Rs) + alpha], color=\"#F43D64\")\n",
    "    \n",
    "    return pd.DataFrame({'Parametr':nazwy, 'Wartość':wartości})"
   ]
  },
  {
   "cell_type": "code",
   "execution_count": 80,
   "id": "d042e877",
   "metadata": {},
   "outputs": [
    {
     "data": {
      "text/html": [
       "<div>\n",
       "<style scoped>\n",
       "    .dataframe tbody tr th:only-of-type {\n",
       "        vertical-align: middle;\n",
       "    }\n",
       "\n",
       "    .dataframe tbody tr th {\n",
       "        vertical-align: top;\n",
       "    }\n",
       "\n",
       "    .dataframe thead th {\n",
       "        text-align: right;\n",
       "    }\n",
       "</style>\n",
       "<table border=\"1\" class=\"dataframe\">\n",
       "  <thead>\n",
       "    <tr style=\"text-align: right;\">\n",
       "      <th></th>\n",
       "      <th>Parametr</th>\n",
       "      <th>Wartość</th>\n",
       "    </tr>\n",
       "  </thead>\n",
       "  <tbody>\n",
       "    <tr>\n",
       "      <th>0</th>\n",
       "      <td>alpha kawa</td>\n",
       "      <td>0.000199</td>\n",
       "    </tr>\n",
       "    <tr>\n",
       "      <th>1</th>\n",
       "      <td>beta kawa</td>\n",
       "      <td>0.546786</td>\n",
       "    </tr>\n",
       "    <tr>\n",
       "      <th>2</th>\n",
       "      <td>Współczynnik determinacji</td>\n",
       "      <td>0.079763</td>\n",
       "    </tr>\n",
       "    <tr>\n",
       "      <th>3</th>\n",
       "      <td>Wariancja residuów</td>\n",
       "      <td>0.000471</td>\n",
       "    </tr>\n",
       "  </tbody>\n",
       "</table>\n",
       "</div>"
      ],
      "text/plain": [
       "                    Parametr   Wartość\n",
       "0                 alpha kawa  0.000199\n",
       "1                  beta kawa  0.546786\n",
       "2  Współczynnik determinacji  0.079763\n",
       "3         Wariancja residuów  0.000471"
      ]
     },
     "execution_count": 80,
     "metadata": {},
     "output_type": "execute_result"
    },
    {
     "data": {
      "image/png": "[encoded data removed]",
      "text/plain": [
       "<Figure size 432x288 with 1 Axes>"
      ]
     },
     "metadata": {
      "needs_background": "light"
     },
     "output_type": "display_data"
    }
   ],
   "source": [
    "lr_gaz = jednowskaznikowy(df_final['przyrosty_log_gaz'], df_final['przyrosty_log_usdpln'])\n",
    "lr_gaz"
   ]
  },
  {
   "cell_type": "code",
   "execution_count": 81,
   "id": "a8d2c21f",
   "metadata": {},
   "outputs": [
    {
     "data": {
      "text/html": [
       "<div>\n",
       "<style scoped>\n",
       "    .dataframe tbody tr th:only-of-type {\n",
       "        vertical-align: middle;\n",
       "    }\n",
       "\n",
       "    .dataframe tbody tr th {\n",
       "        vertical-align: top;\n",
       "    }\n",
       "\n",
       "    .dataframe thead th {\n",
       "        text-align: right;\n",
       "    }\n",
       "</style>\n",
       "<table border=\"1\" class=\"dataframe\">\n",
       "  <thead>\n",
       "    <tr style=\"text-align: right;\">\n",
       "      <th></th>\n",
       "      <th>Parametr</th>\n",
       "      <th>Wartość</th>\n",
       "    </tr>\n",
       "  </thead>\n",
       "  <tbody>\n",
       "    <tr>\n",
       "      <th>0</th>\n",
       "      <td>alpha kawa</td>\n",
       "      <td>0.000322</td>\n",
       "    </tr>\n",
       "    <tr>\n",
       "      <th>1</th>\n",
       "      <td>beta kawa</td>\n",
       "      <td>0.449422</td>\n",
       "    </tr>\n",
       "    <tr>\n",
       "      <th>2</th>\n",
       "      <td>Współczynnik determinacji</td>\n",
       "      <td>0.049307</td>\n",
       "    </tr>\n",
       "    <tr>\n",
       "      <th>3</th>\n",
       "      <td>Wariancja residuów</td>\n",
       "      <td>0.000532</td>\n",
       "    </tr>\n",
       "  </tbody>\n",
       "</table>\n",
       "</div>"
      ],
      "text/plain": [
       "                    Parametr   Wartość\n",
       "0                 alpha kawa  0.000322\n",
       "1                  beta kawa  0.449422\n",
       "2  Współczynnik determinacji  0.049307\n",
       "3         Wariancja residuów  0.000532"
      ]
     },
     "execution_count": 81,
     "metadata": {},
     "output_type": "execute_result"
    },
    {
     "data": {
      "image/png": "[encoded data removed]",
      "text/plain": [
       "<Figure size 432x288 with 1 Axes>"
      ]
     },
     "metadata": {
      "needs_background": "light"
     },
     "output_type": "display_data"
    }
   ],
   "source": [
    "lr_ropa = jednowskaznikowy(df_final['przyrosty_log_ropa'], df_final['przyrosty_log_usdpln'])\n",
    "lr_ropa"
   ]
  },
  {
   "cell_type": "code",
   "execution_count": 82,
   "id": "b2d173ed",
   "metadata": {},
   "outputs": [
    {
     "data": {
      "text/html": [
       "<div>\n",
       "<style scoped>\n",
       "    .dataframe tbody tr th:only-of-type {\n",
       "        vertical-align: middle;\n",
       "    }\n",
       "\n",
       "    .dataframe tbody tr th {\n",
       "        vertical-align: top;\n",
       "    }\n",
       "\n",
       "    .dataframe thead th {\n",
       "        text-align: right;\n",
       "    }\n",
       "</style>\n",
       "<table border=\"1\" class=\"dataframe\">\n",
       "  <thead>\n",
       "    <tr style=\"text-align: right;\">\n",
       "      <th></th>\n",
       "      <th>Parametr</th>\n",
       "      <th>Wartość</th>\n",
       "    </tr>\n",
       "  </thead>\n",
       "  <tbody>\n",
       "    <tr>\n",
       "      <th>0</th>\n",
       "      <td>alpha_gaz</td>\n",
       "      <td>0.000199</td>\n",
       "    </tr>\n",
       "    <tr>\n",
       "      <th>1</th>\n",
       "      <td>beta_gaz</td>\n",
       "      <td>0.546786</td>\n",
       "    </tr>\n",
       "    <tr>\n",
       "      <th>2</th>\n",
       "      <td>alpha_ropa</td>\n",
       "      <td>0.000322</td>\n",
       "    </tr>\n",
       "    <tr>\n",
       "      <th>3</th>\n",
       "      <td>beta_ropa</td>\n",
       "      <td>0.449422</td>\n",
       "    </tr>\n",
       "  </tbody>\n",
       "</table>\n",
       "</div>"
      ],
      "text/plain": [
       "     Parametr   Wartość\n",
       "0   alpha_gaz  0.000199\n",
       "1    beta_gaz  0.546786\n",
       "2  alpha_ropa  0.000322\n",
       "3   beta_ropa  0.449422"
      ]
     },
     "execution_count": 82,
     "metadata": {},
     "output_type": "execute_result"
    }
   ],
   "source": [
    "alpha_gaz = lr_gaz.iloc[0, 1]\n",
    "beta_gaz = lr_gaz.iloc[1, 1]\n",
    "alpha_ropa = lr_ropa.iloc[0, 1]\n",
    "beta_ropa = lr_ropa.iloc[1, 1]\n",
    "\n",
    "nazwy = ['alpha_gaz', 'beta_gaz', 'alpha_ropa', 'beta_ropa']\n",
    "wartości = [alpha_gaz, beta_gaz, alpha_ropa, beta_ropa]\n",
    "df_lr_coef = pd.DataFrame({'Parametr':nazwy, 'Wartość':wartości})\n",
    "df_lr_coef"
   ]
  },
  {
   "cell_type": "code",
   "execution_count": 83,
   "id": "1cc6c457",
   "metadata": {},
   "outputs": [],
   "source": [
    "# gaz\n",
    "residua_gaz =  df_final['przyrosty_log_gaz'] - alpha_gaz - beta_gaz * df_final['przyrosty_log_usdpln']\n",
    "a_gaz = alpha_gaz + residua_gaz\n",
    "\n",
    "# ropa\n",
    "residua_ropa =  df_final['przyrosty_log_ropa'] - alpha_ropa - beta_ropa * df_final['przyrosty_log_usdpln']\n",
    "a_ropa = alpha_ropa + residua_ropa"
   ]
  },
  {
   "cell_type": "code",
   "execution_count": 84,
   "id": "c5539b32",
   "metadata": {},
   "outputs": [
    {
     "data": {
      "text/plain": [
       "(-1.0408340855860843e-16, 0.9999999999985855)"
      ]
     },
     "execution_count": 84,
     "metadata": {},
     "output_type": "execute_result"
    }
   ],
   "source": [
    "st.pearsonr(df_final['przyrosty_log_usdpln'], residua_gaz)"
   ]
  },
  {
   "cell_type": "code",
   "execution_count": 85,
   "id": "6179d55f",
   "metadata": {},
   "outputs": [
    {
     "data": {
      "text/plain": [
       "-1.6972030535725056e-20"
      ]
     },
     "execution_count": 85,
     "metadata": {},
     "output_type": "execute_result"
    }
   ],
   "source": [
    "(residua_gaz*(df_final['przyrosty_log_usdpln'] - df_final['przyrosty_log_usdpln'].mean())).mean()"
   ]
  },
  {
   "cell_type": "code",
   "execution_count": 86,
   "id": "8c2a7f15",
   "metadata": {},
   "outputs": [
    {
     "data": {
      "text/plain": [
       "(-4.163336342344337e-17, 0.999999999998657)"
      ]
     },
     "execution_count": 86,
     "metadata": {},
     "output_type": "execute_result"
    }
   ],
   "source": [
    "st.pearsonr(df_final['przyrosty_log_usdpln'], residua_ropa)"
   ]
  },
  {
   "cell_type": "code",
   "execution_count": 87,
   "id": "6ffd32ea",
   "metadata": {},
   "outputs": [
    {
     "data": {
      "text/plain": [
       "-2.3428303889241165e-20"
      ]
     },
     "execution_count": 87,
     "metadata": {},
     "output_type": "execute_result"
    }
   ],
   "source": [
    "(residua_ropa*(df_final['przyrosty_log_usdpln'] - df_final['przyrosty_log_usdpln'].mean())).mean()"
   ]
  },
  {
   "cell_type": "code",
   "execution_count": 88,
   "id": "1afe09da",
   "metadata": {},
   "outputs": [
    {
     "data": {
      "text/plain": [
       "(0.0025635145369066192, 0.9329385515508617)"
      ]
     },
     "execution_count": 88,
     "metadata": {},
     "output_type": "execute_result"
    }
   ],
   "source": [
    "st.pearsonr(residua_gaz, residua_ropa)"
   ]
  },
  {
   "cell_type": "code",
   "execution_count": 89,
   "id": "e29c01be",
   "metadata": {},
   "outputs": [],
   "source": [
    "def mean_std_corr():\n",
    "    \n",
    "    nazwy = ['Średnia przyrostów gazu',\n",
    "             'Średnia przyrostów ropy',\n",
    "             'Odchylenie std przyrostów gazu',\n",
    "             'Odchylenie std przyrostów ropy',\n",
    "             'Współczynnik korelacji']\n",
    "    \n",
    "    wartosci = [alpha_gaz + beta_gaz*df_final['przyrosty_log_usdpln'].mean(),\n",
    "                alpha_ropa + beta_ropa*df_final['przyrosty_log_usdpln'].mean(),\n",
    "                np.var(residua_gaz) + beta_gaz**2 * np.var(df_final['przyrosty_log_usdpln']),\n",
    "                np.var(residua_ropa) + beta_ropa**2 * np.var(df_final['przyrosty_log_usdpln']),\n",
    "                beta_gaz*beta_ropa*np.var(df_final['przyrosty_log_usdpln'])]\n",
    "    \n",
    "    return pd.DataFrame({'Parametr':nazwy, 'Wartość': wartosci})"
   ]
  },
  {
   "cell_type": "code",
   "execution_count": 90,
   "id": "b5f5e98e",
   "metadata": {},
   "outputs": [
    {
     "data": {
      "text/html": [
       "<div>\n",
       "<style scoped>\n",
       "    .dataframe tbody tr th:only-of-type {\n",
       "        vertical-align: middle;\n",
       "    }\n",
       "\n",
       "    .dataframe tbody tr th {\n",
       "        vertical-align: top;\n",
       "    }\n",
       "\n",
       "    .dataframe thead th {\n",
       "        text-align: right;\n",
       "    }\n",
       "</style>\n",
       "<table border=\"1\" class=\"dataframe\">\n",
       "  <thead>\n",
       "    <tr style=\"text-align: right;\">\n",
       "      <th></th>\n",
       "      <th>Parametr</th>\n",
       "      <th>Wartość</th>\n",
       "    </tr>\n",
       "  </thead>\n",
       "  <tbody>\n",
       "    <tr>\n",
       "      <th>0</th>\n",
       "      <td>Średnia przyrostów gazu</td>\n",
       "      <td>0.000427</td>\n",
       "    </tr>\n",
       "    <tr>\n",
       "      <th>1</th>\n",
       "      <td>Średnia przyrostów ropy</td>\n",
       "      <td>0.000509</td>\n",
       "    </tr>\n",
       "    <tr>\n",
       "      <th>2</th>\n",
       "      <td>Odchylenie std przyrostów gazu</td>\n",
       "      <td>0.000512</td>\n",
       "    </tr>\n",
       "    <tr>\n",
       "      <th>3</th>\n",
       "      <td>Odchylenie std przyrostów ropy</td>\n",
       "      <td>0.000559</td>\n",
       "    </tr>\n",
       "    <tr>\n",
       "      <th>4</th>\n",
       "      <td>Współczynnik korelacji</td>\n",
       "      <td>0.000034</td>\n",
       "    </tr>\n",
       "  </tbody>\n",
       "</table>\n",
       "</div>"
      ],
      "text/plain": [
       "                         Parametr   Wartość\n",
       "0         Średnia przyrostów gazu  0.000427\n",
       "1         Średnia przyrostów ropy  0.000509\n",
       "2  Odchylenie std przyrostów gazu  0.000512\n",
       "3  Odchylenie std przyrostów ropy  0.000559\n",
       "4          Współczynnik korelacji  0.000034"
      ]
     },
     "execution_count": 90,
     "metadata": {},
     "output_type": "execute_result"
    }
   ],
   "source": [
    "mean_std_corr()"
   ]
  },
  {
   "cell_type": "code",
   "execution_count": 91,
   "id": "227b517a",
   "metadata": {},
   "outputs": [],
   "source": [
    "a=len(a_gaz + usd_przyrosty * beta_gaz)"
   ]
  },
  {
   "cell_type": "code",
   "execution_count": 92,
   "id": "304deed3",
   "metadata": {},
   "outputs": [
    {
     "data": {
      "image/png": "[encoded data removed]",
      "text/plain": [
       "<Figure size 432x288 with 1 Axes>"
      ]
     },
     "metadata": {
      "needs_background": "light"
     },
     "output_type": "display_data"
    }
   ],
   "source": [
    "W1 = 0.95\n",
    "W2 = 0.05\n",
    "\n",
    "portfel = W1*(a_gaz + usd_przyrosty * beta_gaz) + W2*(a_ropa + usd_przyrosty* beta_ropa)\n",
    "plt.plot(np.arange(0,a,1),portfel)\n",
    "plt.title('Ryzyko portfela wagi 0.95 kawa i 0.05 olej')\n",
    "plt.grid()"
   ]
  },
  {
   "cell_type": "code",
   "execution_count": 93,
   "id": "fadcce95",
   "metadata": {},
   "outputs": [],
   "source": [
    "def covariance(x, y):\n",
    "\n",
    "    mean_x = sum(x)/float(len(x))\n",
    "    mean_y = sum(y)/float(len(y))\n",
    "    sub_x = [i - mean_x for i in x]\n",
    "    sub_y = [i - mean_y for i in y]\n",
    "    numerator = sum([sub_x[i]*sub_y[i] for i in range(len(sub_x))])\n",
    "    denominator = len(x)-1\n",
    "    cov = numerator/denominator\n",
    "    \n",
    "    return cov"
   ]
  },
  {
   "cell_type": "code",
   "execution_count": 94,
   "id": "39cbb251",
   "metadata": {},
   "outputs": [],
   "source": [
    "k = np.arange(0,1,0.01)\n",
    "wagi = []\n",
    "\n",
    "for i in range(len(k)):\n",
    "    wagi.append([k[i],1-k[i]])"
   ]
  },
  {
   "cell_type": "code",
   "execution_count": 95,
   "id": "53e69159",
   "metadata": {},
   "outputs": [],
   "source": [
    "space = np.linspace(0, 1, 100)\n",
    "wagi = list(zip(space.round(decimals=2), (1-space).round(decimals=2)))\n",
    "usd_przyrosty = df_final['przyrosty_log_usdpln']"
   ]
  },
  {
   "cell_type": "code",
   "execution_count": 96,
   "id": "39c56e17",
   "metadata": {},
   "outputs": [
    {
     "data": {
      "text/html": [
       "<div>\n",
       "<style scoped>\n",
       "    .dataframe tbody tr th:only-of-type {\n",
       "        vertical-align: middle;\n",
       "    }\n",
       "\n",
       "    .dataframe tbody tr th {\n",
       "        vertical-align: top;\n",
       "    }\n",
       "\n",
       "    .dataframe thead th {\n",
       "        text-align: right;\n",
       "    }\n",
       "</style>\n",
       "<table border=\"1\" class=\"dataframe\">\n",
       "  <thead>\n",
       "    <tr style=\"text-align: right;\">\n",
       "      <th></th>\n",
       "      <th>skóra: 0.0\\nguma: 1.0</th>\n",
       "      <th>skóra: 0.01\\nguma: 0.99</th>\n",
       "      <th>skóra: 0.02\\nguma: 0.98</th>\n",
       "      <th>skóra: 0.03\\nguma: 0.97</th>\n",
       "      <th>skóra: 0.04\\nguma: 0.96</th>\n",
       "      <th>skóra: 0.05\\nguma: 0.95</th>\n",
       "      <th>skóra: 0.06\\nguma: 0.94</th>\n",
       "      <th>skóra: 0.07\\nguma: 0.93</th>\n",
       "      <th>skóra: 0.08\\nguma: 0.92</th>\n",
       "      <th>skóra: 0.09\\nguma: 0.91</th>\n",
       "      <th>...</th>\n",
       "      <th>skóra: 0.91\\nguma: 0.09</th>\n",
       "      <th>skóra: 0.92\\nguma: 0.08</th>\n",
       "      <th>skóra: 0.93\\nguma: 0.07</th>\n",
       "      <th>skóra: 0.94\\nguma: 0.06</th>\n",
       "      <th>skóra: 0.95\\nguma: 0.05</th>\n",
       "      <th>skóra: 0.96\\nguma: 0.04</th>\n",
       "      <th>skóra: 0.97\\nguma: 0.03</th>\n",
       "      <th>skóra: 0.98\\nguma: 0.02</th>\n",
       "      <th>skóra: 0.99\\nguma: 0.01</th>\n",
       "      <th>skóra: 1.0\\nguma: 0.0</th>\n",
       "    </tr>\n",
       "  </thead>\n",
       "  <tbody>\n",
       "    <tr>\n",
       "      <th>waga gaz</th>\n",
       "      <td>0.000000</td>\n",
       "      <td>0.010000</td>\n",
       "      <td>0.020000</td>\n",
       "      <td>0.030000</td>\n",
       "      <td>0.040000</td>\n",
       "      <td>0.050000</td>\n",
       "      <td>0.060000</td>\n",
       "      <td>0.070000</td>\n",
       "      <td>0.080000</td>\n",
       "      <td>0.090000</td>\n",
       "      <td>...</td>\n",
       "      <td>0.910000</td>\n",
       "      <td>0.920000</td>\n",
       "      <td>0.930000</td>\n",
       "      <td>0.940000</td>\n",
       "      <td>0.950000</td>\n",
       "      <td>0.960000</td>\n",
       "      <td>0.970000</td>\n",
       "      <td>0.980000</td>\n",
       "      <td>0.990000</td>\n",
       "      <td>1.000000</td>\n",
       "    </tr>\n",
       "    <tr>\n",
       "      <th>waga ropa</th>\n",
       "      <td>1.000000</td>\n",
       "      <td>0.990000</td>\n",
       "      <td>0.980000</td>\n",
       "      <td>0.970000</td>\n",
       "      <td>0.960000</td>\n",
       "      <td>0.950000</td>\n",
       "      <td>0.940000</td>\n",
       "      <td>0.930000</td>\n",
       "      <td>0.920000</td>\n",
       "      <td>0.910000</td>\n",
       "      <td>...</td>\n",
       "      <td>0.090000</td>\n",
       "      <td>0.080000</td>\n",
       "      <td>0.070000</td>\n",
       "      <td>0.060000</td>\n",
       "      <td>0.050000</td>\n",
       "      <td>0.040000</td>\n",
       "      <td>0.030000</td>\n",
       "      <td>0.020000</td>\n",
       "      <td>0.010000</td>\n",
       "      <td>0.000000</td>\n",
       "    </tr>\n",
       "    <tr>\n",
       "      <th>stopa zwrotu</th>\n",
       "      <td>0.000509</td>\n",
       "      <td>0.000509</td>\n",
       "      <td>0.000508</td>\n",
       "      <td>0.000507</td>\n",
       "      <td>0.000506</td>\n",
       "      <td>0.000505</td>\n",
       "      <td>0.000505</td>\n",
       "      <td>0.000504</td>\n",
       "      <td>0.000503</td>\n",
       "      <td>0.000502</td>\n",
       "      <td>...</td>\n",
       "      <td>0.000434</td>\n",
       "      <td>0.000434</td>\n",
       "      <td>0.000433</td>\n",
       "      <td>0.000432</td>\n",
       "      <td>0.000431</td>\n",
       "      <td>0.000430</td>\n",
       "      <td>0.000429</td>\n",
       "      <td>0.000429</td>\n",
       "      <td>0.000428</td>\n",
       "      <td>0.000427</td>\n",
       "    </tr>\n",
       "    <tr>\n",
       "      <th>ryzyko</th>\n",
       "      <td>0.023658</td>\n",
       "      <td>0.023437</td>\n",
       "      <td>0.023218</td>\n",
       "      <td>0.023002</td>\n",
       "      <td>0.022788</td>\n",
       "      <td>0.022577</td>\n",
       "      <td>0.022368</td>\n",
       "      <td>0.022161</td>\n",
       "      <td>0.021957</td>\n",
       "      <td>0.021756</td>\n",
       "      <td>...</td>\n",
       "      <td>0.020841</td>\n",
       "      <td>0.021028</td>\n",
       "      <td>0.021218</td>\n",
       "      <td>0.021412</td>\n",
       "      <td>0.021608</td>\n",
       "      <td>0.021807</td>\n",
       "      <td>0.022009</td>\n",
       "      <td>0.022213</td>\n",
       "      <td>0.022420</td>\n",
       "      <td>0.022630</td>\n",
       "    </tr>\n",
       "  </tbody>\n",
       "</table>\n",
       "<p>4 rows × 100 columns</p>\n",
       "</div>"
      ],
      "text/plain": [
       "              skóra: 0.0\\nguma: 1.0  skóra: 0.01\\nguma: 0.99  \\\n",
       "waga gaz                   0.000000                 0.010000   \n",
       "waga ropa                  1.000000                 0.990000   \n",
       "stopa zwrotu               0.000509                 0.000509   \n",
       "ryzyko                     0.023658                 0.023437   \n",
       "\n",
       "              skóra: 0.02\\nguma: 0.98  skóra: 0.03\\nguma: 0.97  \\\n",
       "waga gaz                     0.020000                 0.030000   \n",
       "waga ropa                    0.980000                 0.970000   \n",
       "stopa zwrotu                 0.000508                 0.000507   \n",
       "ryzyko                       0.023218                 0.023002   \n",
       "\n",
       "              skóra: 0.04\\nguma: 0.96  skóra: 0.05\\nguma: 0.95  \\\n",
       "waga gaz                     0.040000                 0.050000   \n",
       "waga ropa                    0.960000                 0.950000   \n",
       "stopa zwrotu                 0.000506                 0.000505   \n",
       "ryzyko                       0.022788                 0.022577   \n",
       "\n",
       "              skóra: 0.06\\nguma: 0.94  skóra: 0.07\\nguma: 0.93  \\\n",
       "waga gaz                     0.060000                 0.070000   \n",
       "waga ropa                    0.940000                 0.930000   \n",
       "stopa zwrotu                 0.000505                 0.000504   \n",
       "ryzyko                       0.022368                 0.022161   \n",
       "\n",
       "              skóra: 0.08\\nguma: 0.92  skóra: 0.09\\nguma: 0.91  ...  \\\n",
       "waga gaz                     0.080000                 0.090000  ...   \n",
       "waga ropa                    0.920000                 0.910000  ...   \n",
       "stopa zwrotu                 0.000503                 0.000502  ...   \n",
       "ryzyko                       0.021957                 0.021756  ...   \n",
       "\n",
       "              skóra: 0.91\\nguma: 0.09  skóra: 0.92\\nguma: 0.08  \\\n",
       "waga gaz                     0.910000                 0.920000   \n",
       "waga ropa                    0.090000                 0.080000   \n",
       "stopa zwrotu                 0.000434                 0.000434   \n",
       "ryzyko                       0.020841                 0.021028   \n",
       "\n",
       "              skóra: 0.93\\nguma: 0.07  skóra: 0.94\\nguma: 0.06  \\\n",
       "waga gaz                     0.930000                 0.940000   \n",
       "waga ropa                    0.070000                 0.060000   \n",
       "stopa zwrotu                 0.000433                 0.000432   \n",
       "ryzyko                       0.021218                 0.021412   \n",
       "\n",
       "              skóra: 0.95\\nguma: 0.05  skóra: 0.96\\nguma: 0.04  \\\n",
       "waga gaz                     0.950000                 0.960000   \n",
       "waga ropa                    0.050000                 0.040000   \n",
       "stopa zwrotu                 0.000431                 0.000430   \n",
       "ryzyko                       0.021608                 0.021807   \n",
       "\n",
       "              skóra: 0.97\\nguma: 0.03  skóra: 0.98\\nguma: 0.02  \\\n",
       "waga gaz                     0.970000                 0.980000   \n",
       "waga ropa                    0.030000                 0.020000   \n",
       "stopa zwrotu                 0.000429                 0.000429   \n",
       "ryzyko                       0.022009                 0.022213   \n",
       "\n",
       "              skóra: 0.99\\nguma: 0.01  skóra: 1.0\\nguma: 0.0  \n",
       "waga gaz                     0.990000               1.000000  \n",
       "waga ropa                    0.010000               0.000000  \n",
       "stopa zwrotu                 0.000428               0.000427  \n",
       "ryzyko                       0.022420               0.022630  \n",
       "\n",
       "[4 rows x 100 columns]"
      ]
     },
     "execution_count": 96,
     "metadata": {},
     "output_type": "execute_result"
    }
   ],
   "source": [
    "portfele_residua = pd.DataFrame(index=[\"waga gaz\", \"waga ropa\", \"stopa zwrotu\", \"ryzyko\"])\n",
    "\n",
    "for waga_gaz, waga_ropa, in wagi:\n",
    "    temp_portfel_residua = \\\n",
    "        waga_gaz*(a_gaz + usd_przyrosty * beta_gaz) + \\\n",
    "        waga_ropa*(a_ropa + usd_przyrosty* beta_ropa)\n",
    "    \n",
    "    portfele_residua[f\"skóra: {waga_gaz}\\nguma: {waga_ropa}\"] = \\\n",
    "        [waga_gaz, \n",
    "         waga_ropa, \n",
    "         np.mean(temp_portfel_residua), \n",
    "         np.std(temp_portfel_residua, ddof=1)]\n",
    "    \n",
    "\n",
    "portfele_residua.head()"
   ]
  },
  {
   "cell_type": "code",
   "execution_count": 97,
   "id": "560c5f8b",
   "metadata": {},
   "outputs": [
    {
     "data": {
      "text/plain": [
       "Text(0.5, 1.0, 'Portfele z różnymi wagami dla modelu jednowskaźnikowego')"
      ]
     },
     "execution_count": 97,
     "metadata": {},
     "output_type": "execute_result"
    },
    {
     "data": {
      "image/png": "[encoded data removed]",
      "text/plain": [
       "<Figure size 432x288 with 1 Axes>"
      ]
     },
     "metadata": {
      "needs_background": "light"
     },
     "output_type": "display_data"
    }
   ],
   "source": [
    "zwrot_residua = portfele_residua.iloc[2,:].values\n",
    "ryzyko_residua = portfele_residua.iloc[3,:].values\n",
    "sns.lineplot(x=ryzyko_residua, y=zwrot_residua, color = \"black\", sort=False)\n",
    "sns.scatterplot(x=ryzyko_residua, y=zwrot_residua, color = \"blue\")\n",
    "plt.title(\"Portfele z różnymi wagami dla modelu jednowskaźnikowego\")"
   ]
  },
  {
   "cell_type": "code",
   "execution_count": 98,
   "id": "ae6715e5",
   "metadata": {},
   "outputs": [
    {
     "data": {
      "text/html": [
       "<div>\n",
       "<style scoped>\n",
       "    .dataframe tbody tr th:only-of-type {\n",
       "        vertical-align: middle;\n",
       "    }\n",
       "\n",
       "    .dataframe tbody tr th {\n",
       "        vertical-align: top;\n",
       "    }\n",
       "\n",
       "    .dataframe thead th {\n",
       "        text-align: right;\n",
       "    }\n",
       "</style>\n",
       "<table border=\"1\" class=\"dataframe\">\n",
       "  <thead>\n",
       "    <tr style=\"text-align: right;\">\n",
       "      <th></th>\n",
       "      <th>skóra: 0.0\\nguma: 1.0</th>\n",
       "      <th>skóra: 0.01\\nguma: 0.99</th>\n",
       "      <th>skóra: 0.02\\nguma: 0.98</th>\n",
       "      <th>skóra: 0.03\\nguma: 0.97</th>\n",
       "      <th>skóra: 0.04\\nguma: 0.96</th>\n",
       "      <th>skóra: 0.05\\nguma: 0.95</th>\n",
       "      <th>skóra: 0.06\\nguma: 0.94</th>\n",
       "      <th>skóra: 0.07\\nguma: 0.93</th>\n",
       "      <th>skóra: 0.08\\nguma: 0.92</th>\n",
       "      <th>skóra: 0.09\\nguma: 0.91</th>\n",
       "      <th>...</th>\n",
       "      <th>skóra: 0.91\\nguma: 0.09</th>\n",
       "      <th>skóra: 0.92\\nguma: 0.08</th>\n",
       "      <th>skóra: 0.93\\nguma: 0.07</th>\n",
       "      <th>skóra: 0.94\\nguma: 0.06</th>\n",
       "      <th>skóra: 0.95\\nguma: 0.05</th>\n",
       "      <th>skóra: 0.96\\nguma: 0.04</th>\n",
       "      <th>skóra: 0.97\\nguma: 0.03</th>\n",
       "      <th>skóra: 0.98\\nguma: 0.02</th>\n",
       "      <th>skóra: 0.99\\nguma: 0.01</th>\n",
       "      <th>skóra: 1.0\\nguma: 0.0</th>\n",
       "    </tr>\n",
       "  </thead>\n",
       "  <tbody>\n",
       "    <tr>\n",
       "      <th>waga gaz</th>\n",
       "      <td>0.000000</td>\n",
       "      <td>0.010000</td>\n",
       "      <td>0.020000</td>\n",
       "      <td>0.030000</td>\n",
       "      <td>0.040000</td>\n",
       "      <td>0.050000</td>\n",
       "      <td>0.060000</td>\n",
       "      <td>0.070000</td>\n",
       "      <td>0.080000</td>\n",
       "      <td>0.090000</td>\n",
       "      <td>...</td>\n",
       "      <td>0.910000</td>\n",
       "      <td>0.920000</td>\n",
       "      <td>0.930000</td>\n",
       "      <td>0.940000</td>\n",
       "      <td>0.950000</td>\n",
       "      <td>0.960000</td>\n",
       "      <td>0.970000</td>\n",
       "      <td>0.980000</td>\n",
       "      <td>0.990000</td>\n",
       "      <td>1.000000</td>\n",
       "    </tr>\n",
       "    <tr>\n",
       "      <th>waga ropa</th>\n",
       "      <td>1.000000</td>\n",
       "      <td>0.990000</td>\n",
       "      <td>0.980000</td>\n",
       "      <td>0.970000</td>\n",
       "      <td>0.960000</td>\n",
       "      <td>0.950000</td>\n",
       "      <td>0.940000</td>\n",
       "      <td>0.930000</td>\n",
       "      <td>0.920000</td>\n",
       "      <td>0.910000</td>\n",
       "      <td>...</td>\n",
       "      <td>0.090000</td>\n",
       "      <td>0.080000</td>\n",
       "      <td>0.070000</td>\n",
       "      <td>0.060000</td>\n",
       "      <td>0.050000</td>\n",
       "      <td>0.040000</td>\n",
       "      <td>0.030000</td>\n",
       "      <td>0.020000</td>\n",
       "      <td>0.010000</td>\n",
       "      <td>0.000000</td>\n",
       "    </tr>\n",
       "    <tr>\n",
       "      <th>stopa zwrotu</th>\n",
       "      <td>0.000509</td>\n",
       "      <td>0.000509</td>\n",
       "      <td>0.000508</td>\n",
       "      <td>0.000507</td>\n",
       "      <td>0.000506</td>\n",
       "      <td>0.000505</td>\n",
       "      <td>0.000505</td>\n",
       "      <td>0.000504</td>\n",
       "      <td>0.000503</td>\n",
       "      <td>0.000502</td>\n",
       "      <td>...</td>\n",
       "      <td>0.000434</td>\n",
       "      <td>0.000434</td>\n",
       "      <td>0.000433</td>\n",
       "      <td>0.000432</td>\n",
       "      <td>0.000431</td>\n",
       "      <td>0.000430</td>\n",
       "      <td>0.000429</td>\n",
       "      <td>0.000429</td>\n",
       "      <td>0.000428</td>\n",
       "      <td>0.000427</td>\n",
       "    </tr>\n",
       "    <tr>\n",
       "      <th>ryzyko</th>\n",
       "      <td>0.023658</td>\n",
       "      <td>0.023437</td>\n",
       "      <td>0.023218</td>\n",
       "      <td>0.023002</td>\n",
       "      <td>0.022788</td>\n",
       "      <td>0.022577</td>\n",
       "      <td>0.022368</td>\n",
       "      <td>0.022161</td>\n",
       "      <td>0.021957</td>\n",
       "      <td>0.021756</td>\n",
       "      <td>...</td>\n",
       "      <td>0.020841</td>\n",
       "      <td>0.021028</td>\n",
       "      <td>0.021218</td>\n",
       "      <td>0.021412</td>\n",
       "      <td>0.021608</td>\n",
       "      <td>0.021807</td>\n",
       "      <td>0.022009</td>\n",
       "      <td>0.022213</td>\n",
       "      <td>0.022420</td>\n",
       "      <td>0.022630</td>\n",
       "    </tr>\n",
       "  </tbody>\n",
       "</table>\n",
       "<p>4 rows × 100 columns</p>\n",
       "</div>"
      ],
      "text/plain": [
       "              skóra: 0.0\\nguma: 1.0  skóra: 0.01\\nguma: 0.99  \\\n",
       "waga gaz                   0.000000                 0.010000   \n",
       "waga ropa                  1.000000                 0.990000   \n",
       "stopa zwrotu               0.000509                 0.000509   \n",
       "ryzyko                     0.023658                 0.023437   \n",
       "\n",
       "              skóra: 0.02\\nguma: 0.98  skóra: 0.03\\nguma: 0.97  \\\n",
       "waga gaz                     0.020000                 0.030000   \n",
       "waga ropa                    0.980000                 0.970000   \n",
       "stopa zwrotu                 0.000508                 0.000507   \n",
       "ryzyko                       0.023218                 0.023002   \n",
       "\n",
       "              skóra: 0.04\\nguma: 0.96  skóra: 0.05\\nguma: 0.95  \\\n",
       "waga gaz                     0.040000                 0.050000   \n",
       "waga ropa                    0.960000                 0.950000   \n",
       "stopa zwrotu                 0.000506                 0.000505   \n",
       "ryzyko                       0.022788                 0.022577   \n",
       "\n",
       "              skóra: 0.06\\nguma: 0.94  skóra: 0.07\\nguma: 0.93  \\\n",
       "waga gaz                     0.060000                 0.070000   \n",
       "waga ropa                    0.940000                 0.930000   \n",
       "stopa zwrotu                 0.000505                 0.000504   \n",
       "ryzyko                       0.022368                 0.022161   \n",
       "\n",
       "              skóra: 0.08\\nguma: 0.92  skóra: 0.09\\nguma: 0.91  ...  \\\n",
       "waga gaz                     0.080000                 0.090000  ...   \n",
       "waga ropa                    0.920000                 0.910000  ...   \n",
       "stopa zwrotu                 0.000503                 0.000502  ...   \n",
       "ryzyko                       0.021957                 0.021756  ...   \n",
       "\n",
       "              skóra: 0.91\\nguma: 0.09  skóra: 0.92\\nguma: 0.08  \\\n",
       "waga gaz                     0.910000                 0.920000   \n",
       "waga ropa                    0.090000                 0.080000   \n",
       "stopa zwrotu                 0.000434                 0.000434   \n",
       "ryzyko                       0.020841                 0.021028   \n",
       "\n",
       "              skóra: 0.93\\nguma: 0.07  skóra: 0.94\\nguma: 0.06  \\\n",
       "waga gaz                     0.930000                 0.940000   \n",
       "waga ropa                    0.070000                 0.060000   \n",
       "stopa zwrotu                 0.000433                 0.000432   \n",
       "ryzyko                       0.021218                 0.021412   \n",
       "\n",
       "              skóra: 0.95\\nguma: 0.05  skóra: 0.96\\nguma: 0.04  \\\n",
       "waga gaz                     0.950000                 0.960000   \n",
       "waga ropa                    0.050000                 0.040000   \n",
       "stopa zwrotu                 0.000431                 0.000430   \n",
       "ryzyko                       0.021608                 0.021807   \n",
       "\n",
       "              skóra: 0.97\\nguma: 0.03  skóra: 0.98\\nguma: 0.02  \\\n",
       "waga gaz                     0.970000                 0.980000   \n",
       "waga ropa                    0.030000                 0.020000   \n",
       "stopa zwrotu                 0.000429                 0.000429   \n",
       "ryzyko                       0.022009                 0.022213   \n",
       "\n",
       "              skóra: 0.99\\nguma: 0.01  skóra: 1.0\\nguma: 0.0  \n",
       "waga gaz                     0.990000               1.000000  \n",
       "waga ropa                    0.010000               0.000000  \n",
       "stopa zwrotu                 0.000428               0.000427  \n",
       "ryzyko                       0.022420               0.022630  \n",
       "\n",
       "[4 rows x 100 columns]"
      ]
     },
     "execution_count": 98,
     "metadata": {},
     "output_type": "execute_result"
    }
   ],
   "source": [
    "portfele_residua"
   ]
  },
  {
   "cell_type": "code",
   "execution_count": 99,
   "id": "8498a2f2",
   "metadata": {
    "scrolled": true
   },
   "outputs": [
    {
     "data": {
      "text/plain": [
       "51"
      ]
     },
     "execution_count": 99,
     "metadata": {},
     "output_type": "execute_result"
    }
   ],
   "source": [
    "# szukam indeksu gdzie ryzyko jest najmniejsze\n",
    "min_risk_idx = portfele_residua.iloc[3,:].values.argmin()\n",
    "min_risk_idx"
   ]
  },
  {
   "cell_type": "code",
   "execution_count": 100,
   "id": "84dbacbc",
   "metadata": {},
   "outputs": [
    {
     "data": {
      "text/plain": [
       "0.016876891545595896"
      ]
     },
     "execution_count": 100,
     "metadata": {},
     "output_type": "execute_result"
    }
   ],
   "source": [
    "portfele_residua.iloc[3,:].values.min() # minimalne ryzyko, całkiem podobne do tego co wyszlo w 1 zadaniu"
   ]
  },
  {
   "cell_type": "code",
   "execution_count": 101,
   "id": "48f4a70b",
   "metadata": {},
   "outputs": [
    {
     "data": {
      "text/plain": [
       "waga gaz        0.520000\n",
       "waga ropa       0.480000\n",
       "stopa zwrotu    0.000467\n",
       "ryzyko          0.016877\n",
       "Name: skóra: 0.52\\nguma: 0.48, dtype: float64"
      ]
     },
     "execution_count": 101,
     "metadata": {},
     "output_type": "execute_result"
    }
   ],
   "source": [
    "# dla odsetku wagi ropy 0.71 0 wagi gazu 0.29 ryzyko jest najmnijesze, w zadaniu pierwszym\n",
    "# u Adriana wyszło całkiem podobnie\n",
    "min_risk = portfele_residua.iloc[:, min_risk_idx]\n",
    "min_risk"
   ]
  },
  {
   "cell_type": "code",
   "execution_count": 102,
   "id": "0739dba8",
   "metadata": {},
   "outputs": [
    {
     "name": "stdout",
     "output_type": "stream",
     "text": [
      "Odetek ropy 0.52\n",
      "Stosunek ropy do gazu 1: 1.083 \n",
      "ryzyko wynosi:  0.0169\n"
     ]
    }
   ],
   "source": [
    "x = portfele_residua.iloc[1, min_risk_idx] # x - odsetek ropy\n",
    "print(\"Odetek ropy\",np.round((1 - x), 3)) \n",
    "print(\"Stosunek ropy do gazu 1:\",np.round((1 - x)/x, 3), \n",
    "      \"\\nryzyko wynosi: \", np.round(portfele_residua.iloc[3, min_risk_idx], 4))"
   ]
  },
  {
   "cell_type": "code",
   "execution_count": 103,
   "id": "82a1e27e",
   "metadata": {},
   "outputs": [
    {
     "data": {
      "image/png": "[encoded data removed]",
      "text/plain": [
       "<Figure size 432x288 with 1 Axes>"
      ]
     },
     "metadata": {
      "needs_background": "light"
     },
     "output_type": "display_data"
    }
   ],
   "source": [
    "zwrot_residua = portfele_residua.iloc[2,:].values\n",
    "ryzyko_residua = portfele_residua.iloc[3,:].values\n",
    "odsetek_ropy = portfele_residua.iloc[1, :].values\n",
    "sns.lineplot(x=ryzyko_residua, y=zwrot_residua, sort=False)\n",
    "sns.scatterplot(x=[min_risk[3]], y=[min_risk[2]], color = \"orange\", zorder=2)\n",
    "plt.title(\"Minimalny portfel\")\n",
    "plt.grid()"
   ]
  },
  {
   "cell_type": "code",
   "execution_count": 104,
   "id": "0c6f52f0",
   "metadata": {},
   "outputs": [
    {
     "data": {
      "text/plain": [
       "Text(0.5, 0, 'Ryzyko')"
      ]
     },
     "execution_count": 104,
     "metadata": {},
     "output_type": "execute_result"
    },
    {
     "data": {
      "image/png": "[encoded data removed]",
      "text/plain": [
       "<Figure size 432x288 with 1 Axes>"
      ]
     },
     "metadata": {
      "needs_background": "light"
     },
     "output_type": "display_data"
    }
   ],
   "source": [
    "fig, ax = plt.subplots(1,1)\n",
    "ax.plot(ryzyko_residua, zwrot_residua)\n",
    "ax.set_title('Wykres oczekiwnego zwrotu od ryzyka.')\n",
    "ax.set_ylabel('Oczekiwany zwrot')\n",
    "ax.set_xlabel('Ryzyko')"
   ]
  },
  {
   "cell_type": "code",
   "execution_count": 105,
   "id": "579acd2b",
   "metadata": {},
   "outputs": [
    {
     "data": {
      "text/plain": [
       "waga gaz        0.520000\n",
       "waga ropa       0.480000\n",
       "stopa zwrotu    0.000467\n",
       "ryzyko          0.016877\n",
       "Name: skóra: 0.52\\nguma: 0.48, dtype: float64"
      ]
     },
     "execution_count": 105,
     "metadata": {},
     "output_type": "execute_result"
    }
   ],
   "source": [
    "min_risk"
   ]
  },
  {
   "cell_type": "code",
   "execution_count": 117,
   "id": "d47145c8",
   "metadata": {},
   "outputs": [
    {
     "data": {
      "image/png": "[encoded data removed]",
      "text/plain": [
       "<Figure size 432x288 with 1 Axes>"
      ]
     },
     "metadata": {
      "needs_background": "light"
     },
     "output_type": "display_data"
    }
   ],
   "source": [
    "#d)\n",
    "dane_sigma = ryzyko_residua\n",
    "dane_srednia = zwrot_residua\n",
    "\n",
    "\n",
    "dane1 = []\n",
    "dane2 = []\n",
    "\n",
    "for i in range(len(dane_srednia)):\n",
    "    \n",
    "    if dane_srednia[i] > 0.00047:\n",
    "        dane1.append(dane_sigma[i])\n",
    "        dane2.append(dane_srednia[i])\n",
    "\n",
    "\n",
    "\n",
    "#minimalna wymagana stopa zwrotu\n",
    "plt.plot(dane_sigma, dane_srednia, color='black')\n",
    "plt.plot(dane1, dane2, color='#8A3324')\n",
    "plt.title(\"Wykres punktów (σp , E(Rp)) dla różnych wag\")\n",
    "plt.xlabel('σp')\n",
    "plt.ylabel('E(Rp)')\n",
    "k = np.linspace(0.016,0.023,100)\n",
    "plt.plot(k,0.00047*k/k,color = 'b')\n",
    "plt.grid()\n",
    "plt.savefig(\"dupa2.jpg\");"
   ]
  },
  {
   "cell_type": "code",
   "execution_count": 44,
   "id": "79759dc3",
   "metadata": {},
   "outputs": [
    {
     "data": {
      "image/png": "[encoded data removed]",
      "text/plain": [
       "<Figure size 432x288 with 2 Axes>"
      ]
     },
     "metadata": {
      "needs_background": "light"
     },
     "output_type": "display_data"
    }
   ],
   "source": [
    "fig, axs = plt.subplots(2,1, sharex=True)\n",
    "axs[0].plot(odsetek_ropy, zwrot_residua, zorder=1)\n",
    "axs[0].set_ylabel('Oczekiwany zwrot')\n",
    "axs[0].set_title('Miary logarytmicznych przyrostów dla portfeli z różnymi\\n'\n",
    "                 ' wagami dla modelu jednowskaźnikowego z naniesionym portfelem o minimalnym ryzyku')\n",
    "axs[0].scatter(x=[min_risk[1]], y=[min_risk[2]], color=\"orange\", zorder=2)\n",
    "\n",
    "axs[1].plot(odsetek_ropy, ryzyko_residua, zorder=1)\n",
    "axs[1].scatter(x=[min_risk[1]], y=[min_risk[3]], c=\"orange\", alpha=1, zorder=2)\n",
    "axs[1].set_ylabel('Ryzyko')\n",
    "axs[1].set_xlabel('Odsetek ropy w portfelu')\n",
    "plt.grid()"
   ]
  },
  {
   "cell_type": "code",
   "execution_count": null,
   "id": "43e5e73a",
   "metadata": {},
   "outputs": [],
   "source": []
  },
  {
   "cell_type": "code",
   "execution_count": null,
   "id": "37c9a6bd",
   "metadata": {},
   "outputs": [],
   "source": []
  }
 ],
 "metadata": {
  "kernelspec": {
   "display_name": "Python 3 (ipykernel)",
   "language": "python",
   "name": "python3"
  },
  "language_info": {
   "codemirror_mode": {
    "name": "ipython",
    "version": 3
   },
   "file_extension": ".py",
   "mimetype": "text/x-python",
   "name": "python",
   "nbconvert_exporter": "python",
   "pygments_lexer": "ipython3",
   "version": "3.9.12"
  }
 },
 "nbformat": 4,
 "nbformat_minor": 5
}
